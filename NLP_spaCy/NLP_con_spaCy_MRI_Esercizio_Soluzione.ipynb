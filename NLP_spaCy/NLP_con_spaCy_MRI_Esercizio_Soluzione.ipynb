{
 "cells": [
  {
   "cell_type": "code",
   "execution_count": null,
   "metadata": {
    "colab": {
     "base_uri": "https://localhost:8080/"
    },
    "id": "xmrQTC-At6cu",
    "outputId": "59881b45-963e-484f-caf0-682352f6b9ca"
   },
   "outputs": [],
   "source": [
    "!pip install vaderSentiment==3.3.2\n",
    "!python -m spacy download en_core_web_lg"
   ]
  },
  {
   "cell_type": "code",
   "execution_count": 1,
   "metadata": {
    "id": "8vd3k8_btNiD"
   },
   "outputs": [],
   "source": [
    "import numpy\n",
    "import matplotlib.pyplot as plt\n",
    "import seaborn as sns\n",
    "import pandas as pd\n",
    "\n",
    "\n",
    "# Funzione per stampare istogramma\n",
    "def print_plot(items_of_interest):\n",
    "    df = pd.DataFrame(items_of_interest, columns=[\"Trump Says\"])\n",
    "    plt.figure(figsize=(5, 4))\n",
    "    sns.countplot(\n",
    "        y=\"Trump Says\",\n",
    "        data=df,\n",
    "        order=df[\"Trump Says\"].value_counts().iloc[:15].index,\n",
    "    )\n",
    "    plt.show()"
   ]
  },
  {
   "cell_type": "code",
   "execution_count": null,
   "metadata": {
    "colab": {
     "base_uri": "https://localhost:8080/",
     "height": 388
    },
    "id": "X0VFMS1ltege",
    "outputId": "518e1bd2-35a8-4e32-e393-4cc53646f6fb"
   },
   "outputs": [],
   "source": [
    "trump_topics = [\"A\", \"B\", \"C\", \"A\", \"A\"]\n",
    "print_plot(trump_topics)"
   ]
  },
  {
   "cell_type": "code",
   "execution_count": 3,
   "metadata": {
    "id": "Ydpt2q7awIYj"
   },
   "outputs": [],
   "source": [
    "import pickle\n",
    "\n",
    "with open(\"mri_exercise_text.pickle\", \"rb\") as file:\n",
    "    text = pickle.load(file)"
   ]
  },
  {
   "cell_type": "markdown",
   "metadata": {
    "id": "kGrHKujMvJLy"
   },
   "source": [
    "* Creare lista dei lemmi contenuti nel testo escludendo i token non alfabetici e stamparli usando print_plot\n",
    "* Creare lista dei lemmi contenuti nel testo escludendo i token non alfabetici e le stopword e stamparli usando print_plot\n",
    "* Creare lista dei lemmi corrispondenti a verbi escludendo le stopword e stamparli usando print_plot\n",
    "* Creare lista dei luoghi nominati e stamparli usando print_plot\n",
    "* Creare lista delle persone nominate in frasi con sentiment positivo (compound >= 0.1) e stamparli usando print_plot\n",
    "* Creare lista delle persone nominate in frasi con sentiment negativo (compound <= -0.1) e stamparli usando print_plot"
   ]
  },
  {
   "cell_type": "code",
   "execution_count": 16,
   "metadata": {
    "id": "y6Bmfnw8wTDJ"
   },
   "outputs": [],
   "source": [
    "import spacy\n",
    "from vaderSentiment.vaderSentiment import SentimentIntensityAnalyzer\n",
    "\n",
    "# Scrivere il proprio codice qui\n",
    "nlp = spacy.load(\"en_core_web_lg\")\n",
    "doc = nlp(text)\n",
    "\n",
    "analyzer = SentimentIntensityAnalyzer()"
   ]
  },
  {
   "cell_type": "code",
   "execution_count": null,
   "metadata": {
    "id": "z_YRzv_LvwXz"
   },
   "outputs": [],
   "source": [
    "trump_topics = []\n",
    "\n",
    "# Scrivere il proprio codice qui\n",
    "for token in doc:\n",
    "    if token.is_alpha:\n",
    "        trump_topics.append(token.lemma_)\n",
    "\n",
    "print_plot(trump_topics)"
   ]
  },
  {
   "cell_type": "code",
   "execution_count": null,
   "metadata": {
    "id": "0mpRzunGv6FS"
   },
   "outputs": [],
   "source": [
    "trump_topics = []\n",
    "\n",
    "# Scrivere il proprio codice qui\n",
    "for token in doc:\n",
    "    if (token.is_alpha) and (not token.is_stop):\n",
    "        trump_topics.append(token.lemma_)\n",
    "\n",
    "print_plot(trump_topics)"
   ]
  },
  {
   "cell_type": "code",
   "execution_count": null,
   "metadata": {
    "id": "OJ_-lOLgv6aZ"
   },
   "outputs": [],
   "source": [
    "trump_topics = []\n",
    "\n",
    "# Scrivere il proprio codice qui\n",
    "for token in doc:\n",
    "    if (token.pos_ == \"VERB\") and (not token.is_stop):\n",
    "        trump_topics.append(token.lemma_)\n",
    "\n",
    "print_plot(trump_topics)"
   ]
  },
  {
   "cell_type": "code",
   "execution_count": null,
   "metadata": {
    "id": "Mde8DUYmv6tY"
   },
   "outputs": [],
   "source": [
    "trump_topics = []\n",
    "\n",
    "# Scrivere il proprio codice qui\n",
    "for ent in doc.ents:\n",
    "    if ent.label_ == \"GPE\":\n",
    "        trump_topics.append(ent.text)\n",
    "\n",
    "print_plot(trump_topics)"
   ]
  },
  {
   "cell_type": "code",
   "execution_count": null,
   "metadata": {
    "id": "jH-rHeu9v7Ha"
   },
   "outputs": [],
   "source": [
    "trump_topics = []\n",
    "\n",
    "# Scrivere il proprio codice qui\n",
    "for sent in doc.sents:\n",
    "    if analyzer.polarity_scores(sent.text)[\"compound\"] >= 0.1:\n",
    "        for ent in sent.ents:\n",
    "            if ent.label_ == \"PERSON\":\n",
    "                trump_topics.append(ent.text)\n",
    "trump_topics = [str(ent) for ent in trump_topics]\n",
    "\n",
    "print_plot(trump_topics)"
   ]
  },
  {
   "cell_type": "code",
   "execution_count": null,
   "metadata": {
    "id": "lLY7U-SOv7Zp"
   },
   "outputs": [],
   "source": [
    "trump_topics = []\n",
    "\n",
    "# Scrivere il proprio codice qui\n",
    "for sent in doc.sents:\n",
    "    if analyzer.polarity_scores(sent.text)[\"compound\"] <= -0.1:\n",
    "        for ent in sent.ents:\n",
    "            if ent.label_ == \"PERSON\":\n",
    "                trump_topics.append(ent.text)\n",
    "trump_topics = [str(ent) for ent in trump_topics]\n",
    "\n",
    "print_plot(trump_topics)"
   ]
  }
 ],
 "metadata": {
  "colab": {
   "provenance": []
  },
  "kernelspec": {
   "display_name": ".venv",
   "language": "python",
   "name": "python3"
  },
  "language_info": {
   "codemirror_mode": {
    "name": "ipython",
    "version": 3
   },
   "file_extension": ".py",
   "mimetype": "text/x-python",
   "name": "python",
   "nbconvert_exporter": "python",
   "pygments_lexer": "ipython3",
   "version": "3.8.10"
  }
 },
 "nbformat": 4,
 "nbformat_minor": 0
}
