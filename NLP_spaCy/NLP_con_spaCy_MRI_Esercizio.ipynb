{
  "nbformat": 4,
  "nbformat_minor": 0,
  "metadata": {
    "colab": {
      "provenance": []
    },
    "kernelspec": {
      "name": "python3",
      "display_name": "Python 3"
    },
    "language_info": {
      "name": "python"
    }
  },
  "cells": [
    {
      "cell_type": "code",
      "source": [
        "!pip install vaderSentiment==3.3.2\n",
        "!python -m spacy download en_core_web_lg"
      ],
      "metadata": {
        "id": "xmrQTC-At6cu"
      },
      "execution_count": null,
      "outputs": []
    },
    {
      "cell_type": "code",
      "execution_count": null,
      "metadata": {
        "id": "8vd3k8_btNiD"
      },
      "outputs": [],
      "source": [
        "import numpy\n",
        "import matplotlib.pyplot as plt\n",
        "import seaborn as sns\n",
        "import pandas as pd\n",
        "\n",
        "# Funzione per stampare istogramma\n",
        "def print_plot(items_of_interest):\n",
        "    df = pd.DataFrame(items_of_interest, columns=[\"Trump Says\"])\n",
        "    plt.figure(figsize=(5, 4))\n",
        "    sns.countplot(\n",
        "        y=\"Trump Says\",\n",
        "        data=df,\n",
        "        order=df[\"Trump Says\"].value_counts().iloc[:15].index,\n",
        "    )\n",
        "    plt.show()"
      ]
    },
    {
      "cell_type": "code",
      "source": [
        "# Testiamo la stampa dell'istogramma\n",
        "trump_topics = [\"A\", \"B\", \"C\", \"A\", \"A\"]\n",
        "print_plot(trump_topics)"
      ],
      "metadata": {
        "id": "X0VFMS1ltege"
      },
      "execution_count": null,
      "outputs": []
    },
    {
      "cell_type": "code",
      "source": [
        "import pickle\n",
        "\n",
        "# Carichiamo il file con il testo dell'esercizio\n",
        "with open(\"mri_exercise_text.pickle\", \"rb\") as file:\n",
        "    text = pickle.load(file)"
      ],
      "metadata": {
        "id": "Ydpt2q7awIYj"
      },
      "execution_count": null,
      "outputs": []
    },
    {
      "cell_type": "markdown",
      "source": [
        "Creare una pipeline spaCy e un sentiment analyzer."
      ],
      "metadata": {
        "id": "gq1hWkfHOhej"
      }
    },
    {
      "cell_type": "code",
      "source": [
        "import spacy\n",
        "from vaderSentiment.vaderSentiment import SentimentIntensityAnalyzer\n",
        "\n",
        "# Scrivere il proprio codice qui"
      ],
      "metadata": {
        "id": "y6Bmfnw8wTDJ"
      },
      "execution_count": null,
      "outputs": []
    },
    {
      "cell_type": "markdown",
      "source": [
        "Creare lista dei lemmi contenuti nel testo escludendo i token non alfabetici e stamparli usando print_plot."
      ],
      "metadata": {
        "id": "QS4CwZLIOnQb"
      }
    },
    {
      "cell_type": "code",
      "source": [
        "trump_topics = []\n",
        "\n",
        "# Scrivere il proprio codice qui\n",
        "\n",
        "print_plot(trump_topics)"
      ],
      "metadata": {
        "id": "z_YRzv_LvwXz"
      },
      "execution_count": null,
      "outputs": []
    },
    {
      "cell_type": "markdown",
      "source": [
        "Creare lista dei lemmi contenuti nel testo escludendo i token non alfabetici e le stopword e stamparli usando print_plot."
      ],
      "metadata": {
        "id": "rpp81FqJOvQT"
      }
    },
    {
      "cell_type": "code",
      "source": [
        "trump_topics = []\n",
        "\n",
        "# Scrivere il proprio codice qui\n",
        "\n",
        "print_plot(trump_topics)"
      ],
      "metadata": {
        "id": "0mpRzunGv6FS"
      },
      "execution_count": null,
      "outputs": []
    },
    {
      "cell_type": "markdown",
      "source": [
        "Creare lista dei lemmi corrispondenti a verbi escludendo le stopword e stamparli usando print_plot."
      ],
      "metadata": {
        "id": "oehdUj4jOzVc"
      }
    },
    {
      "cell_type": "code",
      "source": [
        "trump_topics = []\n",
        "\n",
        "# Scrivere il proprio codice qui\n",
        "\n",
        "print_plot(trump_topics)"
      ],
      "metadata": {
        "id": "OJ_-lOLgv6aZ"
      },
      "execution_count": null,
      "outputs": []
    },
    {
      "cell_type": "markdown",
      "source": [
        "Creare lista dei luoghi nominati e stamparli usando print_plot."
      ],
      "metadata": {
        "id": "EC41nyOTO9uc"
      }
    },
    {
      "cell_type": "code",
      "source": [
        "trump_topics = []\n",
        "\n",
        "# Scrivere il proprio codice qui\n",
        "\n",
        "print_plot(trump_topics)"
      ],
      "metadata": {
        "id": "Mde8DUYmv6tY"
      },
      "execution_count": null,
      "outputs": []
    },
    {
      "cell_type": "markdown",
      "source": [
        "Creare lista delle persone nominate in frasi con sentiment positivo (compound >= 0.1) e stamparli usando print_plot."
      ],
      "metadata": {
        "id": "EfLvd5_6PAgN"
      }
    },
    {
      "cell_type": "code",
      "source": [
        "trump_topics = []\n",
        "\n",
        "# Scrivere il proprio codice qui\n",
        "\n",
        "print_plot(trump_topics)"
      ],
      "metadata": {
        "id": "jH-rHeu9v7Ha"
      },
      "execution_count": null,
      "outputs": []
    },
    {
      "cell_type": "markdown",
      "source": [
        "Creare lista delle persone nominate in frasi con sentiment negativo (compound <= -0.1) e stamparli usando print_plot."
      ],
      "metadata": {
        "id": "a2zSGlpOPDS6"
      }
    },
    {
      "cell_type": "code",
      "source": [
        "trump_topics = []\n",
        "\n",
        "# Scrivere il proprio codice qui\n",
        "\n",
        "print_plot(trump_topics)"
      ],
      "metadata": {
        "id": "lLY7U-SOv7Zp"
      },
      "execution_count": null,
      "outputs": []
    }
  ]
}